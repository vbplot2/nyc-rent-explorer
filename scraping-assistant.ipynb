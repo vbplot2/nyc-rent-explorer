{
 "cells": [
  {
   "cell_type": "code",
   "execution_count": 44,
   "id": "c8490560-b84f-4d9c-b756-1a23bb343594",
   "metadata": {},
   "outputs": [],
   "source": [
    "import requests\n",
    "from bs4 import BeautifulSoup\n",
    "import csv\n",
    "import logging\n",
    "import re"
   ]
  },
  {
   "cell_type": "code",
   "execution_count": 45,
   "id": "3bd6278c-a4df-4c4e-9ecf-3c4e55051736",
   "metadata": {},
   "outputs": [],
   "source": [
    "def fetch_page(url):\n",
    "    headers = {\"User-Agent\": \"Mozilla/5.0\"}\n",
    "    resp = requests.get(url, headers=headers)\n",
    "    resp.raise_for_status()\n",
    "    return BeautifulSoup(resp.text, \"html.parser\")"
   ]
  },
  {
   "cell_type": "code",
   "execution_count": 46,
   "id": "482a935f-2089-4c72-a217-4b5c59b3b85f",
   "metadata": {},
   "outputs": [
    {
     "name": "stdout",
     "output_type": "stream",
     "text": [
      "Found 14 listings\n"
     ]
    }
   ],
   "source": [
    "url = \"https://streeteasy.com/for-rent/manhattan/beds:1?page=1\"\n",
    "headers = {\n",
    "    \"User-Agent\": (\n",
    "        \"Mozilla/5.0 (X11; Ubuntu; Linux x86_64; rv:109.0) Gecko/20100101 Firefox/118.0\"\n",
    "    )\n",
    "}\n",
    "\n",
    "resp = requests.get(url, headers=headers)\n",
    "soup = BeautifulSoup(resp.text, \"html.parser\")\n",
    "\n",
    "cards = soup.select('li.sc-541ed69f-1')\n",
    "print(f\"Found {len(cards)} listings\")"
   ]
  },
  {
   "cell_type": "code",
   "execution_count": 47,
   "id": "c01d0c37-6b4d-476e-b897-641ad8c4b436",
   "metadata": {},
   "outputs": [],
   "source": [
    "card = cards[0]\n",
    "# print(card.prettify())"
   ]
  },
  {
   "cell_type": "code",
   "execution_count": 48,
   "id": "f5045153-c75b-432b-9126-0b366cfd1dc6",
   "metadata": {},
   "outputs": [],
   "source": [
    "\"\"\"\n",
    "Parse the title string to extract the unit type and neighborhood.\n",
    "\n",
    "Challenges with the raw title text:\n",
    "- Sometimes the word \"in\" is jammed without spaces, e.g. \"Rental unitin Chelsea\".\n",
    "  This causes simple splits on \" in \" to fail.\n",
    "- Other times, \"in\" appears correctly as a separate word, e.g. \"Mixed-use Building in Midtown\".\n",
    "- We need to fix the jammed \"in\" case without breaking correctly spaced titles.\n",
    "- Naively replacing all occurrences of \"in\" can incorrectly split words like \"Building\".\n",
    "\n",
    "How this function solves the issues:\n",
    "- First, normalize all whitespace to single spaces.\n",
    "- Then, specifically fix the jammed \"in\" only when it appears as part of a word followed immediately by \"in\" and a space,\n",
    "  e.g. turning \"unitin \" into \"unit in \".\n",
    "- Finally, split on the first correctly spaced \" in \" to separate unit type and neighborhood,\n",
    "  preserving the integrity of words like \"Building\".\n",
    "\n",
    "This approach balances correcting bad formatting while preserving correct ones.\n",
    "\"\"\"\n",
    "\n",
    "def parse_title(title_text):\n",
    "    \"\"\"Extracts unit type and neighborhood from a title string.\"\"\"\n",
    "    if not title_text:\n",
    "        return None, None\n",
    "\n",
    "    # Normalize all whitespace\n",
    "    cleaned = re.sub(r'\\s+', ' ', title_text).strip()\n",
    "\n",
    "    # Fix jammed 'in' (e.g., \"unitin Chelsea\" → \"unit in Chelsea\")\n",
    "    cleaned = re.sub(r'(\\w)in ', r'\\1 in ', cleaned, count=1)\n",
    "\n",
    "    # Now split on the first ' in '\n",
    "    if \" in \" in cleaned:\n",
    "        unit_type, neighborhood = cleaned.split(\" in \", 1)\n",
    "        return unit_type.strip(), neighborhood.strip()\n",
    "    else:\n",
    "        return cleaned, None"
   ]
  },
  {
   "cell_type": "code",
   "execution_count": 49,
   "id": "a8b145b5-6f00-48ea-96c2-442191587037",
   "metadata": {},
   "outputs": [
    {
     "name": "stdout",
     "output_type": "stream",
     "text": [
      "Unit Type: Rental unit\n",
      "Neighborhood: East Village\n"
     ]
    }
   ],
   "source": [
    "title_tag = card.select_one(\"p.ListingDescription-module__title___B9n4Z\")\n",
    "if title_tag:\n",
    "    full_title = title_tag.get_text(strip=True)\n",
    "    unit_type, neighborhood = parse_title(full_title)\n",
    "    print(\"Unit Type:\", unit_type)\n",
    "    print(\"Neighborhood:\", neighborhood)"
   ]
  },
  {
   "cell_type": "code",
   "execution_count": 50,
   "id": "9d7476e4-db6f-4294-8a52-e8336dffb5b4",
   "metadata": {},
   "outputs": [
    {
     "name": "stdout",
     "output_type": "stream",
     "text": [
      "Type: Rental unit | Neighborhood: Chelsea\n",
      "Type: Co-op | Neighborhood: Kips Bay\n",
      "Type: Condo | Neighborhood: Hell's Kitchen\n",
      "Type: Studio | Neighborhood: Midtown\n",
      "Type: Mixed-use Building | Neighborhood: Midtown\n"
     ]
    }
   ],
   "source": [
    "examples = [\n",
    "    \"Rental unitin Chelsea\",\n",
    "    \"Co-op in Kips Bay\",\n",
    "    \"Condoin Hell's Kitchen\",\n",
    "    \"Studio in Midtown\",\n",
    "    \"Mixed-use Building in Midtown\",\n",
    "]\n",
    "\n",
    "for example in examples:\n",
    "    t, n = parse_title(example)\n",
    "    print(f\"Type: {t} | Neighborhood: {n}\")"
   ]
  },
  {
   "cell_type": "code",
   "execution_count": 51,
   "id": "25230640-5646-43da-9b24-f8273315d7c0",
   "metadata": {},
   "outputs": [
    {
     "name": "stdout",
     "output_type": "stream",
     "text": [
      "Address: 153 Avenue A #12J\n",
      "URL: https://streeteasy.com/building/153-avenue-a-new_york/12j?featured=1\n"
     ]
    }
   ],
   "source": [
    "address_tag = card.select_one(\"a.ListingDescription-module__addressTextAction___xAFZJ\")\n",
    "if address_tag:\n",
    "    address = address_tag.get_text(strip=True)\n",
    "    url = address_tag[\"href\"]\n",
    "    print(\"Address:\", address)\n",
    "    print(\"URL:\", url)"
   ]
  },
  {
   "cell_type": "code",
   "execution_count": 54,
   "id": "45c492c1-1787-449e-828f-a6b5e9eb4282",
   "metadata": {},
   "outputs": [
    {
     "name": "stdout",
     "output_type": "stream",
     "text": [
      "Price: 3495\n",
      "Beds: 1.0\n",
      "Baths: 1.0\n"
     ]
    }
   ],
   "source": [
    "price_tag = card.select_one('span[class*=\"PriceInfo-module__price\"]')\n",
    "price_text = price_tag.get_text(strip=True) if price_tag else None\n",
    "price = int(price_text.replace('$', '').replace(',', ''))\n",
    "\n",
    "bed_tag = card.select_one('ul[class*=\"BedsBathsSqft\"] li:nth-of-type(1) span')\n",
    "beds_text = bed_tag.get_text(strip=True) if bed else None\n",
    "beds = float(re.search(r'-?\\d+\\.?\\d*', beds_text).group()) if beds_text else None \n",
    "\n",
    "bath_tag = card.select_one('ul[class*=\"BedsBathsSqft\"] li:nth-of-type(2) span')\n",
    "baths_text = bath_tag.get_text(strip=True) if bath else None\n",
    "baths = float(re.search(r'-?\\d+\\.?\\d*', baths_text).group()) if baths_text else None\n",
    "\n",
    "# print(f\"Price text: {price_text}\")\n",
    "print(f\"Price: {price}\")\n",
    "# print(f\"Beds text: {beds_text}\")\n",
    "print(f\"Beds: {beds}\")\n",
    "# print(f\"Baths text: {baths_text}\")\n",
    "print(f\"Baths: {baths}\")"
   ]
  },
  {
   "cell_type": "code",
   "execution_count": 56,
   "id": "5a24432b-07fe-4b04-b696-633ffbccf443",
   "metadata": {},
   "outputs": [
    {
     "name": "stdout",
     "output_type": "stream",
     "text": [
      "Square footage: None\n"
     ]
    }
   ],
   "source": [
    "sqft_tag = card.select_one('ul[class*=\"BedsBathsSqft\"] li:nth-of-type(3) span')\n",
    "sqft_text = sqft_tag.get_text(strip=True) if sqft_tag else \"\"\n",
    "\n",
    "sqft_clean = None\n",
    "if sqft_text and sqft_text != \"-ft²\":\n",
    "    sqft_clean = int(\"\".join(filter(str.isdigit, sqft_text)))\n",
    "\n",
    "print(f\"Square footage: {sqft_clean}\")"
   ]
  },
  {
   "cell_type": "code",
   "execution_count": 60,
   "id": "3bebdfda-73b2-4c57-b8a5-3ac5531d5bc3",
   "metadata": {},
   "outputs": [
    {
     "name": "stdout",
     "output_type": "stream",
     "text": [
      "Square Footage: 574\n",
      "Square Footage: 1200\n",
      "Square Footage: None\n",
      "Square Footage: None\n",
      "Square Footage: 9\n"
     ]
    }
   ],
   "source": [
    "def parse_sqft(sqft_text):\n",
    "    \"\"\"Parses a square footage string like '574 ft²' into an integer.\"\"\"\n",
    "    \"\"\"Gets the digits, but ignores the superscript 2 for ft^2.\"\"\"\n",
    "    if sqft_text and sqft_text.strip() != \"-ft²\":\n",
    "        match = re.search(r'\\d[\\d,]*', sqft_text)  # Match numbers like 1,200 or 574\n",
    "        if match:\n",
    "            return int(match.group(0).replace(\",\", \"\"))\n",
    "    return None\n",
    "\n",
    "examples = [\n",
    "    \"574 ft²\",\n",
    "    \"1,200 ft²\",\n",
    "    \"-ft²\",\n",
    "    None,\n",
    "    \"9 ft²\",\n",
    "]\n",
    "\n",
    "for example in examples:\n",
    "    sqft = parse_sqft(example)\n",
    "    print(f\"Square Footage: {sqft}\")"
   ]
  },
  {
   "cell_type": "code",
   "execution_count": null,
   "id": "fbec48d8-25bf-4e88-8c0e-580471a80e12",
   "metadata": {},
   "outputs": [],
   "source": []
  }
 ],
 "metadata": {
  "kernelspec": {
   "display_name": "Python 3 (ipykernel)",
   "language": "python",
   "name": "python3"
  },
  "language_info": {
   "codemirror_mode": {
    "name": "ipython",
    "version": 3
   },
   "file_extension": ".py",
   "mimetype": "text/x-python",
   "name": "python",
   "nbconvert_exporter": "python",
   "pygments_lexer": "ipython3",
   "version": "3.13.5"
  }
 },
 "nbformat": 4,
 "nbformat_minor": 5
}

{
 "cells": [
  {
   "cell_type": "code",
   "execution_count": 1,
   "id": "c8490560-b84f-4d9c-b756-1a23bb343594",
   "metadata": {},
   "outputs": [],
   "source": [
    "import requests\n",
    "from bs4 import BeautifulSoup\n",
    "import csv\n",
    "import logging"
   ]
  },
  {
   "cell_type": "code",
   "execution_count": 2,
   "id": "3bd6278c-a4df-4c4e-9ecf-3c4e55051736",
   "metadata": {},
   "outputs": [],
   "source": [
    "def fetch_page(url):\n",
    "    headers = {\"User-Agent\": \"Mozilla/5.0\"}\n",
    "    resp = requests.get(url, headers=headers)\n",
    "    resp.raise_for_status()\n",
    "    return BeautifulSoup(resp.text, \"html.parser\")"
   ]
  },
  {
   "cell_type": "code",
   "execution_count": 9,
   "id": "482a935f-2089-4c72-a217-4b5c59b3b85f",
   "metadata": {},
   "outputs": [
    {
     "name": "stdout",
     "output_type": "stream",
     "text": [
      "Found 14 listings\n"
     ]
    }
   ],
   "source": [
    "url = \"https://streeteasy.com/for-rent/manhattan/beds:1?page=1\"\n",
    "headers = {\n",
    "    \"User-Agent\": (\n",
    "        \"Mozilla/5.0 (X11; Ubuntu; Linux x86_64; rv:109.0) Gecko/20100101 Firefox/118.0\"\n",
    "    )\n",
    "}\n",
    "\n",
    "resp = requests.get(url, headers=headers)\n",
    "soup = BeautifulSoup(resp.text, \"html.parser\")\n",
    "\n",
    "cards = soup.select('li.sc-541ed69f-1')\n",
    "print(f\"Found {len(cards)} listings\")"
   ]
  },
  {
   "cell_type": "code",
   "execution_count": 20,
   "id": "c01d0c37-6b4d-476e-b897-641ad8c4b436",
   "metadata": {},
   "outputs": [],
   "source": [
    "card = cards[0]\n",
    "# print(card.prettify())"
   ]
  },
  {
   "cell_type": "code",
   "execution_count": 11,
   "id": "853094b7-8689-416e-ad75-4a714105ced1",
   "metadata": {},
   "outputs": [
    {
     "name": "stdout",
     "output_type": "stream",
     "text": [
      "Type & Neighborhood: Rental unitin Chelsea\n"
     ]
    }
   ],
   "source": [
    "title_tag = card.select_one(\"p.ListingDescription-module__title___B9n4Z\")\n",
    "if title_tag:\n",
    "    type_and_neighborhood = title_tag.get_text(strip=True)\n",
    "    print(\"Type & Neighborhood:\", type_and_neighborhood)"
   ]
  },
  {
   "cell_type": "code",
   "execution_count": 22,
   "id": "99bcf7cc-4a23-4e5a-a5e9-42d6d8ce58a6",
   "metadata": {},
   "outputs": [],
   "source": [
    "def parse_title(text: str) -> tuple[str, str]:\n",
    "    # Fix common missing spaces like 'unitin' or 'condoin'\n",
    "    fixed_text = text.replace(\"unitin\", \"unit in\").replace(\"condoin\", \"condo in\")\n",
    "    \n",
    "    # Then split on \" in \" — this assumes 'type' always precedes 'in'\n",
    "    if \" in \" in fixed_text:\n",
    "        type_part, neighborhood = fixed_text.split(\" in \", 1)\n",
    "        return type_part.strip(), neighborhood.strip()\n",
    "    else:\n",
    "        # fallback: just return full string as type, no neighborhood\n",
    "        return fixed_text.strip(), \"\""
   ]
  },
  {
   "cell_type": "code",
   "execution_count": 23,
   "id": "9d7476e4-db6f-4294-8a52-e8336dffb5b4",
   "metadata": {},
   "outputs": [
    {
     "name": "stdout",
     "output_type": "stream",
     "text": [
      "Type: Rental unit | Neighborhood: Chelsea\n",
      "Type: Co-op | Neighborhood: Kips Bay\n",
      "Type: Condoin Hell's Kitchen | Neighborhood: \n",
      "Type: Studio | Neighborhood: Midtown\n",
      "Type: Mixed-use Building | Neighborhood: Midtown\n"
     ]
    }
   ],
   "source": [
    "examples = [\n",
    "    \"Rental unitin Chelsea\",\n",
    "    \"Co-op in Kips Bay\",\n",
    "    \"Condoin Hell's Kitchen\",\n",
    "    \"Studio in Midtown\",\n",
    "    \"Mixed-use Building in Midtown\",\n",
    "]\n",
    "\n",
    "for example in examples:\n",
    "    t, n = parse_title(example)\n",
    "    print(f\"Type: {t} | Neighborhood: {n}\")"
   ]
  },
  {
   "cell_type": "code",
   "execution_count": 21,
   "id": "25230640-5646-43da-9b24-f8273315d7c0",
   "metadata": {},
   "outputs": [
    {
     "name": "stdout",
     "output_type": "stream",
     "text": [
      "Address: 243 West 28th Street #S-16E\n",
      "URL: https://streeteasy.com/building/ruby-chelsea/s16e?featured=1\n"
     ]
    }
   ],
   "source": [
    "address_tag = card.select_one(\"a.ListingDescription-module__addressTextAction___xAFZJ\")\n",
    "if address_tag:\n",
    "    address = address_tag.get_text(strip=True)\n",
    "    url = address_tag[\"href\"]\n",
    "    print(\"Address:\", address)\n",
    "    print(\"URL:\", url)"
   ]
  },
  {
   "cell_type": "code",
   "execution_count": 19,
   "id": "45c492c1-1787-449e-828f-a6b5e9eb4282",
   "metadata": {},
   "outputs": [
    {
     "name": "stdout",
     "output_type": "stream",
     "text": [
      "Price: $6,795\n",
      "Beds: 1 bed\n",
      "Baths: 1 bath\n"
     ]
    }
   ],
   "source": [
    "price_raw = card.select_one('span[class*=\"PriceInfo-module__price\"]')\n",
    "price_text = price_raw.get_text(strip=True) if price_raw else None\n",
    "\n",
    "bed = card.select_one('ul[class*=\"BedsBathsSqft\"] li:nth-of-type(1) span')\n",
    "beds = bed.get_text(strip=True) if bed else None\n",
    "\n",
    "bath = card.select_one('ul[class*=\"BedsBathsSqft\"] li:nth-of-type(2) span')\n",
    "baths = bath.get_text(strip=True) if bath else None\n",
    "\n",
    "print(f\"Price: {price_text}\")\n",
    "print(f\"Beds: {beds}\")\n",
    "print(f\"Baths: {baths}\")"
   ]
  },
  {
   "cell_type": "code",
   "execution_count": null,
   "id": "f8d9c8fa-b060-4f51-86cc-01c3e532d2b7",
   "metadata": {},
   "outputs": [],
   "source": []
  }
 ],
 "metadata": {
  "kernelspec": {
   "display_name": "Python 3 (ipykernel)",
   "language": "python",
   "name": "python3"
  },
  "language_info": {
   "codemirror_mode": {
    "name": "ipython",
    "version": 3
   },
   "file_extension": ".py",
   "mimetype": "text/x-python",
   "name": "python",
   "nbconvert_exporter": "python",
   "pygments_lexer": "ipython3",
   "version": "3.13.5"
  }
 },
 "nbformat": 4,
 "nbformat_minor": 5
}
